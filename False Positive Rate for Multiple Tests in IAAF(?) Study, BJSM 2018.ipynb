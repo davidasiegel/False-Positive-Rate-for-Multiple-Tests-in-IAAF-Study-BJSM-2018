{
 "cells": [
  {
   "cell_type": "markdown",
   "metadata": {},
   "source": [
    "# Load Plugins:"
   ]
  },
  {
   "cell_type": "code",
   "execution_count": 22,
   "metadata": {},
   "outputs": [],
   "source": [
    "import numpy as np\n",
    "from scipy import stats\n",
    "import matplotlib.pyplot as plt\n",
    "%matplotlib inline\n",
    "import seaborn as sns\n",
    "sns.set()\n",
    "import time"
   ]
  },
  {
   "cell_type": "markdown",
   "metadata": {},
   "source": [
    "# Make Sure Simulation and Tests are Calibrated:"
   ]
  },
  {
   "cell_type": "code",
   "execution_count": 16,
   "metadata": {},
   "outputs": [],
   "source": [
    "#Trial run: Simulate two pairs of null data (no difference in mean or variance), perform a t-test.\n",
    "#Do this 10,000 times:\n",
    "num_trials = 10000\n",
    "pvalue_list = []\n",
    "for trialnum in range(num_trials):\n",
    "    results1 = np.random.normal(0,1,20)\n",
    "    results2 = np.random.normal(0,1,20)\n",
    "    statistic, pvalue = stats.ttest_ind(results1,results2)\n",
    "    pvalue_list.append(pvalue)"
   ]
  },
  {
   "cell_type": "code",
   "execution_count": 17,
   "metadata": {},
   "outputs": [
    {
     "data": {
      "image/png": "[encoded data removed]",
      "text/plain": [
       "<Figure size 432x288 with 1 Axes>"
      ]
     },
     "metadata": {},
     "output_type": "display_data"
    }
   ],
   "source": [
    "#Make sure the distribution of p-values is roughly uniform:\n",
    "n, bins, patches = plt.hist(pvalue_list)"
   ]
  },
  {
   "cell_type": "code",
   "execution_count": 19,
   "metadata": {},
   "outputs": [],
   "source": [
    "#For reference, this is what happens if the means are different:\n",
    "#Do this 10,000 times:\n",
    "num_trials = 10000\n",
    "pvalue_list = []\n",
    "for trialnum in range(num_trials):\n",
    "    results1 = np.random.normal(0.5,1,20)\n",
    "    results2 = np.random.normal(0,1,20)\n",
    "    statistic, pvalue = stats.ttest_ind(results1,results2)\n",
    "    pvalue_list.append(pvalue)"
   ]
  },
  {
   "cell_type": "code",
   "execution_count": 20,
   "metadata": {},
   "outputs": [
    {
     "data": {
      "image/png": "[encoded data removed]",
      "text/plain": [
       "<Figure size 432x288 with 1 Axes>"
      ]
     },
     "metadata": {},
     "output_type": "display_data"
    }
   ],
   "source": [
    "#Expect the distribution of p-values is not uniform:\n",
    "n, bins, patches = plt.hist(pvalue_list)"
   ]
  },
  {
   "cell_type": "markdown",
   "metadata": {},
   "source": [
    "# Simulate 43 *NULL* statistical tests, see what the distribution of false positives (p<0.05) looks like:"
   ]
  },
  {
   "cell_type": "code",
   "execution_count": 24,
   "metadata": {},
   "outputs": [
    {
     "name": "stdout",
     "output_type": "stream",
     "text": [
      "total time = 30.700238999999996\n"
     ]
    }
   ],
   "source": [
    "starttime = time.clock()\n",
    "\n",
    "num_events = 43 #21 female events and 22 male events -- none of the male events were significant, by chance\n",
    "\n",
    "num_simulations = 1000\n",
    "\n",
    "num_false_positives_list = []\n",
    "for simulation in range(num_simulations):\n",
    "    false_positive_counter = 0\n",
    "    for trialnum in range(num_events):\n",
    "        results1 = np.random.normal(0,1,20)\n",
    "        results2 = np.random.normal(0,1,20)\n",
    "        statistic, pvalue = stats.ttest_ind(results1,results2)\n",
    "        if pvalue<0.05:\n",
    "            false_positive_counter+=1\n",
    "    num_false_positives_list.append(false_positive_counter) #record the number of false positives for each simulation\n",
    "\n",
    "print 'total time = '+ repr(time.clock()-starttime)"
   ]
  },
  {
   "cell_type": "code",
   "execution_count": 26,
   "metadata": {},
   "outputs": [
    {
     "data": {
      "image/png": "[encoded data removed]",
      "text/plain": [
       "<Figure size 432x288 with 1 Axes>"
      ]
     },
     "metadata": {},
     "output_type": "display_data"
    }
   ],
   "source": [
    "n, bins, patches = plt.hist(num_false_positives_list,max(num_false_positives_list))"
   ]
  },
  {
   "cell_type": "code",
   "execution_count": 28,
   "metadata": {},
   "outputs": [
    {
     "name": "stdout",
     "output_type": "stream",
     "text": [
      "329 1000\n",
      "0.329\n"
     ]
    }
   ],
   "source": [
    "num_false_positives_list = np.array(num_false_positives_list)\n",
    "print len(num_false_positives_list[num_false_positives_list>2]), len(num_false_positives_list)\n",
    "print float(len(num_false_positives_list[num_false_positives_list>2]))/len(num_false_positives_list)"
   ]
  },
  {
   "cell_type": "markdown",
   "metadata": {},
   "source": [
    "# Conclusion: Roughly 1/3 of the time you perform such a trial you will obtain 3 or more false positives.  Therefore it's reasonably likely that these are all false positives!"
   ]
  },
  {
   "cell_type": "markdown",
   "metadata": {},
   "source": [
    "# What about p<0.09 instead of p<0.05?"
   ]
  },
  {
   "cell_type": "code",
   "execution_count": 33,
   "metadata": {},
   "outputs": [
    {
     "name": "stdout",
     "output_type": "stream",
     "text": [
      "total time = 28.73639400000002\n"
     ]
    }
   ],
   "source": [
    "starttime = time.clock()\n",
    "\n",
    "num_events = 43 #21 female events and 22 male events -- none of the male events were significant, by chance\n",
    "\n",
    "num_simulations = 1000\n",
    "\n",
    "num_false_positives_list = []\n",
    "for simulation in range(num_simulations):\n",
    "    false_positive_counter = 0\n",
    "    for trialnum in range(num_events):\n",
    "        results1 = np.random.normal(0,1,20)\n",
    "        results2 = np.random.normal(0,1,20)\n",
    "        statistic, pvalue = stats.ttest_ind(results1,results2)\n",
    "        if pvalue<0.09:\n",
    "            false_positive_counter+=1\n",
    "    num_false_positives_list.append(false_positive_counter) #record the number of false positives for each simulation\n",
    "\n",
    "print 'total time = '+ repr(time.clock()-starttime)"
   ]
  },
  {
   "cell_type": "code",
   "execution_count": 34,
   "metadata": {},
   "outputs": [
    {
     "data": {
      "image/png": "[encoded data removed]",
      "text/plain": [
       "<Figure size 432x288 with 1 Axes>"
      ]
     },
     "metadata": {},
     "output_type": "display_data"
    }
   ],
   "source": [
    "n, bins, patches = plt.hist(num_false_positives_list,max(num_false_positives_list))"
   ]
  },
  {
   "cell_type": "code",
   "execution_count": 35,
   "metadata": {},
   "outputs": [
    {
     "name": "stdout",
     "output_type": "stream",
     "text": [
      "568 1000\n",
      "0.568\n"
     ]
    }
   ],
   "source": [
    "num_false_positives_list = np.array(num_false_positives_list)\n",
    "print len(num_false_positives_list[num_false_positives_list>3]), len(num_false_positives_list)\n",
    "print float(len(num_false_positives_list[num_false_positives_list>3]))/len(num_false_positives_list)"
   ]
  },
  {
   "cell_type": "markdown",
   "metadata": {},
   "source": [
    "# Conclusion: More than half the time you do such a study you will find 4 or more false positives at the p<0.09 level!"
   ]
  },
  {
   "cell_type": "code",
   "execution_count": null,
   "metadata": {},
   "outputs": [],
   "source": []
  }
 ],
 "metadata": {
  "kernelspec": {
   "display_name": "Python 2",
   "language": "python",
   "name": "python2"
  },
  "language_info": {
   "codemirror_mode": {
    "name": "ipython",
    "version": 2
   },
   "file_extension": ".py",
   "mimetype": "text/x-python",
   "name": "python",
   "nbconvert_exporter": "python",
   "pygments_lexer": "ipython2",
   "version": "2.7.15"
  },
  "toc": {
   "nav_menu": {},
   "number_sections": true,
   "sideBar": true,
   "skip_h1_title": false,
   "toc_cell": false,
   "toc_position": {},
   "toc_section_display": "block",
   "toc_window_display": false
  },
  "varInspector": {
   "cols": {
    "lenName": 16,
    "lenType": 16,
    "lenVar": 40
   },
   "kernels_config": {
    "python": {
     "delete_cmd_postfix": "",
     "delete_cmd_prefix": "del ",
     "library": "var_list.py",
     "varRefreshCmd": "print(var_dic_list())"
    },
    "r": {
     "delete_cmd_postfix": ") ",
     "delete_cmd_prefix": "rm(",
     "library": "var_list.r",
     "varRefreshCmd": "cat(var_dic_list()) "
    }
   },
   "types_to_exclude": [
    "module",
    "function",
    "builtin_function_or_method",
    "instance",
    "_Feature"
   ],
   "window_display": false
  }
 },
 "nbformat": 4,
 "nbformat_minor": 2
}
